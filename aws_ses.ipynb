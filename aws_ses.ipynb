{
 "cells": [
  {
   "cell_type": "code",
   "execution_count": 1,
   "id": "d6a4d87a-099b-416f-adb4-9ffcc0133c0a",
   "metadata": {},
   "outputs": [],
   "source": [
    "import boto3\n",
    "import json\n",
    "import requests\n",
    "from botocore.exceptions import ClientError "
   ]
  },
  {
   "cell_type": "markdown",
   "id": "4c8dedde-9ebc-48b4-8ebb-795acb85d283",
   "metadata": {},
   "source": [
    "## Configure boto3"
   ]
  },
  {
   "cell_type": "code",
   "execution_count": 3,
   "id": "2d030b62-1b1e-4569-ace7-2e41861e2e18",
   "metadata": {},
   "outputs": [],
   "source": [
    "def configure_boto3(aws_access_key_id, aws_secret_access_key, aws_region):\n",
    "    \"\"\"\n",
    "    Configure Boto3 with provided AWS Credentials and region\n",
    "    \"\"\"\n",
    "    boto3.setup_default_session(\n",
    "        aws_access_key_id=aws_access_key_id,\n",
    "        aws_secret_access_key=aws_secret_access_key,\n",
    "        region_name=aws_region\n",
    "    )"
   ]
  },
  {
   "cell_type": "code",
   "execution_count": 9,
   "id": "3c461f5f-a7c3-412b-9009-574249828ac5",
   "metadata": {},
   "outputs": [],
   "source": [
    "aws_access_key_id = 'your-aws-access-key-here'\n",
    "aws_secret_access_key = 'your-aws-secret-here'\n",
    "aws_region = 'your-aws-region-here'\n",
    "\n",
    "#Connect to AWS using Boto3\n",
    "configure_boto3(aws_access_key_id, aws_secret_access_key, aws_region)"
   ]
  },
  {
   "cell_type": "markdown",
   "id": "e6e9159c-2015-4a65-9671-04ab27a5f8d5",
   "metadata": {},
   "source": [
    "## CREATE SES CLIENT"
   ]
  },
  {
   "cell_type": "code",
   "execution_count": 10,
   "id": "9f102a58-211c-4700-853d-6bd59a9d0bed",
   "metadata": {},
   "outputs": [],
   "source": [
    "ses_client = boto3.client('ses')"
   ]
  },
  {
   "cell_type": "markdown",
   "id": "083c6513-fb21-4ad6-adb0-76078b3a03da",
   "metadata": {},
   "source": [
    "## CREATE SENDER IDENTITY"
   ]
  },
  {
   "cell_type": "code",
   "execution_count": 14,
   "id": "c8a1709f-d073-4a33-91d1-3180696dafa4",
   "metadata": {},
   "outputs": [],
   "source": [
    "# Sender Identity is either a domain, subdomain or email that required to be verified in order to send emails.\n",
    "def create_email_identity(email_address):\n",
    "    try:\n",
    "        response = ses_client.verify_email_identity(\n",
    "            EmailAddress=email_address\n",
    "        )\n",
    "        \n",
    "        return response\n",
    "    except Exception as e:\n",
    "        print(f\"Create email identity error: {e}\")"
   ]
  },
  {
   "cell_type": "code",
   "execution_count": null,
   "id": "ee5dc172-7c74-488a-b52b-9be92e1d0fc9",
   "metadata": {},
   "outputs": [],
   "source": [
    "create_email_identity(\"hello@domain.com\")"
   ]
  },
  {
   "cell_type": "code",
   "execution_count": null,
   "id": "3e9a7c38-0880-41df-872b-1bf82dd5f976",
   "metadata": {},
   "outputs": [],
   "source": []
  }
 ],
 "metadata": {
  "kernelspec": {
   "display_name": "Python 3 (ipykernel)",
   "language": "python",
   "name": "python3"
  },
  "language_info": {
   "codemirror_mode": {
    "name": "ipython",
    "version": 3
   },
   "file_extension": ".py",
   "mimetype": "text/x-python",
   "name": "python",
   "nbconvert_exporter": "python",
   "pygments_lexer": "ipython3",
   "version": "3.12.4"
  }
 },
 "nbformat": 4,
 "nbformat_minor": 5
}
