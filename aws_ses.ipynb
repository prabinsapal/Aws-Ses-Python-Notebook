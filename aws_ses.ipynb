{
 "cells": [
  {
   "cell_type": "code",
   "execution_count": 1,
   "id": "d6a4d87a-099b-416f-adb4-9ffcc0133c0a",
   "metadata": {},
   "outputs": [],
   "source": [
    "import boto3\n",
    "import json\n",
    "import requests\n",
    "from botocore.exceptions import ClientError "
   ]
  },
  {
   "cell_type": "markdown",
   "id": "4c8dedde-9ebc-48b4-8ebb-795acb85d283",
   "metadata": {},
   "source": [
    "## Configure boto3"
   ]
  },
  {
   "cell_type": "code",
   "execution_count": 3,
   "id": "2d030b62-1b1e-4569-ace7-2e41861e2e18",
   "metadata": {},
   "outputs": [],
   "source": [
    "def configure_boto3(aws_access_key_id, aws_secret_access_key, aws_region):\n",
    "    \"\"\"\n",
    "    Configure Boto3 with provided AWS Credentials and region\n",
    "    \"\"\"\n",
    "    boto3.setup_default_session(\n",
    "        aws_access_key_id=aws_access_key_id,\n",
    "        aws_secret_access_key=aws_secret_access_key,\n",
    "        region_name=aws_region\n",
    "    )"
   ]
  },
  {
   "cell_type": "code",
   "execution_count": 9,
   "id": "3c461f5f-a7c3-412b-9009-574249828ac5",
   "metadata": {},
   "outputs": [],
   "source": [
    "aws_access_key_id = 'your-aws-access-key-here'\n",
    "aws_secret_access_key = 'your-aws-secret-here'\n",
    "aws_region = 'your-aws-region-here'\n",
    "\n",
    "#Connect to AWS using Boto3\n",
    "configure_boto3(aws_access_key_id, aws_secret_access_key, aws_region)"
   ]
  },
  {
   "cell_type": "markdown",
   "id": "e6e9159c-2015-4a65-9671-04ab27a5f8d5",
   "metadata": {},
   "source": [
    "## CREATE SES CLIENT"
   ]
  },
  {
   "cell_type": "code",
   "execution_count": 10,
   "id": "9f102a58-211c-4700-853d-6bd59a9d0bed",
   "metadata": {},
   "outputs": [],
   "source": [
    "ses_client = boto3.client('ses')"
   ]
  },
  {
   "cell_type": "markdown",
   "id": "083c6513-fb21-4ad6-adb0-76078b3a03da",
   "metadata": {},
   "source": [
    "## CREATE SENDER IDENTITY"
   ]
  },
  {
   "cell_type": "code",
   "execution_count": 14,
   "id": "c8a1709f-d073-4a33-91d1-3180696dafa4",
   "metadata": {},
   "outputs": [],
   "source": [
    "# Sender Identity is either a domain, subdomain or email that required to be verified in order to send emails.\n",
    "def create_email_identity(email_address):\n",
    "    try:\n",
    "        response = ses_client.verify_email_identity(\n",
    "            EmailAddress=email_address\n",
    "        )\n",
    "        \n",
    "        return response\n",
    "    except Exception as e:\n",
    "        print(f\"Create email identity error: {e}\")"
   ]
  },
  {
   "cell_type": "code",
   "execution_count": null,
   "id": "ee5dc172-7c74-488a-b52b-9be92e1d0fc9",
   "metadata": {},
   "outputs": [],
   "source": [
    "create_email_identity(\"hello@domain.com\")"
   ]
  },
  {
   "cell_type": "markdown",
   "id": "3e9a7c38-0880-41df-872b-1bf82dd5f976",
   "metadata": {},
   "source": [
    "## CREATE DOMAIN IDENTITY"
   ]
  },
  {
   "cell_type": "code",
   "execution_count": null,
   "id": "ad18e26a",
   "metadata": {},
   "outputs": [],
   "source": [
    "def create_domain_identity(domain):\n",
    "    try:\n",
    "        response = ses_client.verify_domain_identity(\n",
    "            Domain='string'\n",
    "        )\n",
    "        return response\n",
    "    except Exception as e:\n",
    "        print(f\"Create domain identity error: {e}\")"
   ]
  },
  {
   "cell_type": "code",
   "execution_count": null,
   "id": "b6c0909b",
   "metadata": {},
   "outputs": [],
   "source": [
    "create_domain_identity(\"hello.com\")\n",
    "\n",
    "#Response syntax\n",
    "# {\n",
    "#     'VerificationToken': 'eoEmxw+YaYhb3h3iVJHuXMJXqeu1q1/wwmvjuEXAMPLE',\n",
    "#     'ResponseMetadata': {\n",
    "#         '...': '...',\n",
    "#     },\n",
    "# }\n",
    "\n",
    "# VerificationToken is a TXT record that you must publish to the DNS server of your domain"
   ]
  },
  {
   "cell_type": "markdown",
   "id": "4d202698",
   "metadata": {},
   "source": [
    "## CREATE DOMAIN DKIM ATTRIBUTES"
   ]
  },
  {
   "cell_type": "code",
   "execution_count": null,
   "id": "ac04a191",
   "metadata": {},
   "outputs": [],
   "source": [
    "# Domain Dkim Attributes are very important in order to verify domain identity\n",
    "def create_domain_dkim_attributes(domain):\n",
    "    try:\n",
    "        response = ses_client.verify_domain_dkim(\n",
    "            Domain=domain,\n",
    "        )\n",
    "        dkim_attributes = response['DkimAttributes']\n",
    "\n",
    "        return dkim_attributes\n",
    "    except Exception as e:\n",
    "        print(f\"Dkim Attributes error: {e}\")"
   ]
  },
  {
   "cell_type": "code",
   "execution_count": null,
   "id": "2d14c398",
   "metadata": {},
   "outputs": [],
   "source": [
    "create_domain_dkim_attributes(\"example.com\")\n",
    "\n",
    "# Response syntax\n",
    "# {\n",
    "#     'DkimTokens': [\n",
    "#         'EXAMPLEq76owjnks3lnluwg65scbemvw',\n",
    "#         'EXAMPLEi3dnsj67hstzaj673klariwx2',\n",
    "#         'EXAMPLEwfbtcukvimehexktmdtaz6naj',\n",
    "#     ],\n",
    "#     'ResponseMetadata': {\n",
    "#         '...': '...',\n",
    "#     },\n",
    "# }\n",
    "\n",
    "# Using these tokens, you need to create DNS CNAME records that point to DKIM public keys that are hosted by Amazon SES."
   ]
  },
  {
   "cell_type": "markdown",
   "id": "424bff67",
   "metadata": {},
   "source": [
    "## VERIFY DOMAIN DKIM ATTRIBUTES"
   ]
  },
  {
   "cell_type": "code",
   "execution_count": null,
   "id": "c473a0e1",
   "metadata": {},
   "outputs": [],
   "source": [
    "def verify_domain_dkim_attributes(domain):\n",
    "    try:\n",
    "        response = ses_client.get_identity_dkim_attributes(\n",
    "            Identities=[\n",
    "               domain,\n",
    "            ]\n",
    "        )\n",
    "\n",
    "        return response\n",
    "    except Exception as e:\n",
    "        print(f\"Dkim Attributes error: {e}\")"
   ]
  },
  {
   "cell_type": "code",
   "execution_count": null,
   "id": "99adf3cb",
   "metadata": {},
   "outputs": [],
   "source": [
    "verify_domain_dkim_attributes(domain)\n",
    "\n",
    "#Response\n",
    "# {\n",
    "#     'DkimAttributes': {\n",
    "#         'string': {\n",
    "#             'DkimEnabled': True|False,\n",
    "#             'DkimVerificationStatus': 'Pending'|'Success'|'Failed'|'TemporaryFailure'|'NotStarted',\n",
    "#             'DkimTokens': [\n",
    "#                 'string',\n",
    "#             ]\n",
    "#         }\n",
    "#     }\n",
    "# }"
   ]
  },
  {
   "cell_type": "markdown",
   "id": "2b45fa46",
   "metadata": {},
   "source": [
    "## VERIFY EMAIL/DOMAIN IS VERIFIED"
   ]
  },
  {
   "cell_type": "code",
   "execution_count": null,
   "id": "e9120061",
   "metadata": {},
   "outputs": [],
   "source": [
    "## identity can be either email or domain\n",
    "def check_email_domain_verified(identity):\n",
    "    try:\n",
    "        response = ses_client.get_identity_verification_attributes(\n",
    "            Identities=[\n",
    "               'identity',\n",
    "            ]\n",
    "        )\n",
    "        verification_attributes = response['VerificationAttributes']\n",
    "    except Exception as e:\n",
    "        print(f\"Email/Domain verification error: {e}\")"
   ]
  },
  {
   "cell_type": "code",
   "execution_count": null,
   "id": "ea0dd51a",
   "metadata": {},
   "outputs": [],
   "source": [
    "check_email_domain_verified(\"hello@domain.com\")\n",
    "\n",
    "# Response syntax\n",
    "# {\n",
    "#     'VerificationAttributes': {\n",
    "#         'string': {\n",
    "#             'VerificationStatus': 'Pending'|'Success'|'Failed'|'TemporaryFailure'|'NotStarted',\n",
    "#             'VerificationToken': 'string'\n",
    "#         }\n",
    "#     }\n",
    "# }"
   ]
  },
  {
   "cell_type": "markdown",
   "id": "e048af48",
   "metadata": {},
   "source": [
    "## DELETE EMAIL/DOMAIN IDENTITY"
   ]
  },
  {
   "cell_type": "code",
   "execution_count": null,
   "id": "3f161d74",
   "metadata": {},
   "outputs": [],
   "source": [
    "def delete_email_domain_identity(identity_address):\n",
    "    try:\n",
    "        \"\"\"\n",
    "        Delete an email identity in Amazon SES\n",
    "        \"\"\"\n",
    "        response = ses_client.delete_identity(\n",
    "            identity=identity_address\n",
    "        )\n",
    "        return response\n",
    "    except Exception as e:\n",
    "        print(f\"Delete Identity error: {e}\")"
   ]
  },
  {
   "cell_type": "code",
   "execution_count": null,
   "id": "84066af3",
   "metadata": {},
   "outputs": [],
   "source": [
    "delete_email_domain_identity(\"hello@domain.com\")\n",
    "\n",
    "# Response syntax\n",
    "# {\n",
    "#     'ResponseMetadata': {\n",
    "#         '...': '...',\n",
    "#     },\n",
    "# }"
   ]
  },
  {
   "cell_type": "markdown",
   "id": "9c5778a4",
   "metadata": {},
   "source": [
    "## SEND EMAIL"
   ]
  },
  {
   "cell_type": "code",
   "execution_count": null,
   "id": "cd8d2481",
   "metadata": {},
   "outputs": [],
   "source": [
    "def send_email(sender_email, receiver_email):\n",
    "    try:\n",
    "        response = client.send_email(\n",
    "                        Source=sender_email,\n",
    "                        Destination={\n",
    "                            'ToAddresses': [\n",
    "                                receiver_email,\n",
    "                            ]\n",
    "                        },\n",
    "                        Message={\n",
    "                            'Subject': {\n",
    "                                'Data': 'Email Subject here',\n",
    "                                'Charset': 'UTF-8'\n",
    "                            },\n",
    "                            'Body': {\n",
    "                                'Text': {\n",
    "                                    'Data': 'Text data here',\n",
    "                                    'Charset': 'UTF-8'\n",
    "                                },\n",
    "                                'Html': {\n",
    "                                    'Data': '<h1>Html data here</h1>',\n",
    "                                    'Charset': 'UTF-8'\n",
    "                                }\n",
    "                            }\n",
    "                        },\n",
    "                        # ReplyToAddresses=['reply_email'],  # Set this if you want Reply in different address\n",
    "                        # ConfigurationSetName='string'  # Configuration set is used to monitor email sending activity\n",
    "                    )\n",
    "        return response\n",
    "    except Exception as e:\n",
    "        print(f\"Error sending email {e}\")\n",
    "    else:\n",
    "        print(\"Email Sent! Message Id: \", response[MessageId])"
   ]
  },
  {
   "cell_type": "code",
   "execution_count": null,
   "id": "7b6eddbd",
   "metadata": {},
   "outputs": [],
   "source": [
    "send_email(\"sender@email.com\", \"receiver@email.com\")\n",
    "\n",
    "#Response\n",
    "# {\n",
    "#     'MessageId': 'string'\n",
    "# }"
   ]
  },
  {
   "cell_type": "markdown",
   "id": "76d90eb9",
   "metadata": {},
   "source": [
    "### Finally Done with Sending Email. Now lets look at Monitoring Sending activity. "
   ]
  },
  {
   "cell_type": "markdown",
   "id": "56ef9d20",
   "metadata": {},
   "source": [
    "There are multiple options to track emails but the best option I found was using configuration sets and Amazon SNS \n",
    "as it monitors all email sending activity(Deliver, Reject, Complaint, etc) along with tracking email click and open. \n",
    "\n",
    "https://docs.aws.amazon.com/ses/latest/dg/monitor-sending-activity.html\n",
    "\n",
    "You can either create configuration sets using Amazon Dashboard or using the following Code."
   ]
  },
  {
   "cell_type": "markdown",
   "id": "cccaf7d1",
   "metadata": {},
   "source": [
    "## CREATE CONFIGURATION SETS"
   ]
  },
  {
   "cell_type": "code",
   "execution_count": null,
   "id": "4590d6a7",
   "metadata": {},
   "outputs": [],
   "source": [
    "def create_configuration_sets(name):\n",
    "    try:\n",
    "        response = ses_client.create_configuration_set(\n",
    "                        ConfigurationSet={\n",
    "                            'Name': name\n",
    "                        }\n",
    "                    )\n",
    "        return response\n",
    "    except Exception as e:\n",
    "        print(f\"Create Configuration Error: {e}\")"
   ]
  },
  {
   "cell_type": "code",
   "execution_count": null,
   "id": "57260048",
   "metadata": {},
   "outputs": [],
   "source": [
    "create_configuration_set(\"my-first-configuration\")\n",
    "\n",
    "#Response - empty dict if sucess {}"
   ]
  },
  {
   "cell_type": "markdown",
   "id": "fe91ba64",
   "metadata": {},
   "source": [
    "## CREATE CONFIGURATION SET DESTINATION"
   ]
  },
  {
   "cell_type": "code",
   "execution_count": null,
   "id": "99dc55fa",
   "metadata": {},
   "outputs": [],
   "source": [
    "def create_configuration_sets_destination(configuration_name):\n",
    "    try:\n",
    "        response = ses_client.create_configuration_set_event_destination(\n",
    "                    ConfigurationSetName=configuration_name,\n",
    "                    EventDestination={\n",
    "                        'Name': 'sns',\n",
    "                        'Enabled': True|False,\n",
    "                        'MatchingEventTypes': [\n",
    "                            'send'|'reject'|'bounce'|'complaint'|'delivery'|'open'|'click'|'renderingFailure',\n",
    "                        ],\n",
    "                        'SNSDestination': {\n",
    "                            'TopicARN': 'sns-topic-name'\n",
    "                        }\n",
    "                    }\n",
    "                )\n",
    "        return response\n",
    "    except Exception as e:\n",
    "        print(\"Create Configuration error: {e}\")"
   ]
  },
  {
   "cell_type": "code",
   "execution_count": null,
   "id": "ca8733c8",
   "metadata": {},
   "outputs": [],
   "source": [
    "create_configuration_sets_destination(\"my-first-configuration\")"
   ]
  },
  {
   "cell_type": "markdown",
   "id": "6df0faab",
   "metadata": {},
   "source": [
    "### And finally Done With monitoring Email Sending acitvity. Now Check my next Repo For Amazon SNS configuration"
   ]
  }
 ],
 "metadata": {
  "kernelspec": {
   "display_name": "Python 3 (ipykernel)",
   "language": "python",
   "name": "python3"
  },
  "language_info": {
   "codemirror_mode": {
    "name": "ipython",
    "version": 3
   },
   "file_extension": ".py",
   "mimetype": "text/x-python",
   "name": "python",
   "nbconvert_exporter": "python",
   "pygments_lexer": "ipython3",
   "version": "3.12.4"
  }
 },
 "nbformat": 4,
 "nbformat_minor": 5
}
